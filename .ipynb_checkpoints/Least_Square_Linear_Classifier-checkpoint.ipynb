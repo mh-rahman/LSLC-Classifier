{
 "cells": [
  {
   "cell_type": "code",
   "execution_count": 70,
   "metadata": {},
   "outputs": [
    {
     "data": {
      "text/plain": [
       "<Figure size 720x3600 with 0 Axes>"
      ]
     },
     "execution_count": 70,
     "metadata": {},
     "output_type": "execute_result"
    },
    {
     "data": {
      "text/plain": [
       "<Figure size 720x3600 with 0 Axes>"
      ]
     },
     "metadata": {},
     "output_type": "display_data"
    }
   ],
   "source": [
    "import numpy as np\n",
    "import pandas as pd\n",
    "import matplotlib.pyplot as plt"
   ]
  },
  {
   "cell_type": "code",
   "execution_count": 71,
   "metadata": {},
   "outputs": [],
   "source": [
    "training_file=pd.read_csv('training.csv', delimiter=',')\n",
    "x1=list(training_file['x1'])\n",
    "x2=list(training_file['x2'])\n",
    "y=[0]*len(x1)\n",
    "i=0\n",
    "for x in x2:\n",
    "    if(x<=2):\n",
    "        y[i]=1\n",
    "        i+=1\n",
    "    else:\n",
    "       y[i]=0\n",
    "       i+=1\n",
    "x0=[1]*len(x1)"
   ]
  },
  {
   "cell_type": "code",
   "execution_count": 72,
   "metadata": {},
   "outputs": [],
   "source": [
    "design_matrix=np.asmatrix(np.column_stack((x0,x1,x2)))\n",
    "target_matrix=np.asmatrix(np.row_stack((y)))"
   ]
  },
  {
   "cell_type": "code",
   "execution_count": 73,
   "metadata": {},
   "outputs": [
    {
     "data": {
      "text/plain": [
       "(21, 1)"
      ]
     },
     "execution_count": 73,
     "metadata": {},
     "output_type": "execute_result"
    }
   ],
   "source": [
    "mult=np.matmul(np.matmul(design_matrix.T,design_matrix).I,design_matrix.T)\n",
    "#mult.shape\n",
    "weight_matrix=np.matmul(mult,target_matrix)\n",
    "target_matrix.shape\n",
    "#np.matmul(design_matrix.T,target_matrix)"
   ]
  },
  {
   "cell_type": "code",
   "execution_count": 74,
   "metadata": {},
   "outputs": [
    {
     "data": {
      "text/plain": [
       "matrix([[ 1.27964245e+00],\n",
       "        [-2.05868000e-04],\n",
       "        [-2.97014152e-01]])"
      ]
     },
     "execution_count": 74,
     "metadata": {},
     "output_type": "execute_result"
    }
   ],
   "source": [
    "weight_matrix"
   ]
  },
  {
   "cell_type": "code",
   "execution_count": 76,
   "metadata": {},
   "outputs": [
    {
     "name": "stdout",
     "output_type": "stream",
     "text": [
      "[[1.27964245]]\n",
      "[[0.98242243]]\n",
      "[[0.68540828]]\n",
      "[[0.38777652]]\n",
      "[[1.27943658]]\n",
      "[[0.98221656]]\n",
      "[[0.68520241]]\n",
      "[[0.38757066]]\n",
      "[[1.27923071]]\n",
      "[[0.98201069]]\n",
      "[[0.68499654]]\n",
      "[[0.3680132]]\n",
      "[[0.9826283]]\n",
      "[[0.98180483]]\n",
      "[[0.68479068]]\n",
      "[[0.98159896]]\n",
      "[[0.68458481]]\n",
      "[[0.9620415]]\n",
      "[[0.66502735]]\n",
      "[[0.68561415]]\n",
      "[[0.38798239]]\n"
     ]
    }
   ],
   "source": [
    "for i in range (0,21):\n",
    "    print(np.matmul(weight_matrix.T,design_matrix[i:i+1].T))"
   ]
  },
  {
   "cell_type": "code",
   "execution_count": 84,
   "metadata": {},
   "outputs": [
    {
     "name": "stderr",
     "output_type": "stream",
     "text": [
      "c:\\users\\hasee\\appdata\\local\\programs\\python\\python37-32\\lib\\site-packages\\ipykernel_launcher.py:4: DeprecationWarning: np.asscalar(a) is deprecated since NumPy v1.16, use a.item() instead\n",
      "  after removing the cwd from sys.path.\n"
     ]
    },
    {
     "data": {
      "text/plain": [
       "[<matplotlib.lines.Line2D at 0x147ad0d0>]"
      ]
     },
     "execution_count": 84,
     "metadata": {},
     "output_type": "execute_result"
    },
    {
     "data": {
      "image/png": "[encoded data removed]",
      "text/plain": [
       "<Figure size 1080x216 with 1 Axes>"
      ]
     },
     "metadata": {
      "needs_background": "light"
     },
     "output_type": "display_data"
    }
   ],
   "source": [
    "y=np.matmul(design_matrix,weight_matrix)\n",
    "y1=[]\n",
    "for i in range (0,21):\n",
    "    y1.append(np.asscalar(y[i:i+1]))\n",
    "\n",
    "x=np.linspace(0,100,21)\n",
    "plt.figure(figsize=(15,3))\n",
    "plt.plot(x1,y1,'bx')\n"
   ]
  },
  {
   "cell_type": "code",
   "execution_count": 83,
   "metadata": {},
   "outputs": [
    {
     "data": {
      "text/plain": [
       "[<matplotlib.lines.Line2D at 0x136628b0>]"
      ]
     },
     "execution_count": 83,
     "metadata": {},
     "output_type": "execute_result"
    },
    {
     "data": {
      "image/png": "[encoded data removed]",
      "text/plain": [
       "<Figure size 1080x216 with 1 Axes>"
      ]
     },
     "metadata": {
      "needs_background": "light"
     },
     "output_type": "display_data"
    }
   ],
   "source": [
    "plt.figure(figsize=(15,3))\n",
    "plt.plot(x1,x2,'rx')"
   ]
  },
  {
   "cell_type": "code",
   "execution_count": 98,
   "metadata": {},
   "outputs": [
    {
     "data": {
      "image/png": "[encoded data removed]",
      "text/plain": [
       "<Figure size 1080x360 with 1 Axes>"
      ]
     },
     "metadata": {
      "needs_background": "light"
     },
     "output_type": "display_data"
    }
   ],
   "source": [
    "plt.figure(figsize=(15,5))\n",
    "plt.plot(x1,x2,'rx')\n",
    "plt.xlabel('x1')\n",
    "plt.ylabel('x2')\n",
    "x=np.linspace(0,100,100)\n",
    "y=-1*(float(weight_matrix[0])-0.6+float(weight_matrix[1])*x)/float(weight_matrix[2])\n",
    "plt.plot(x, y, '-r', label='y=2x+1')\n",
    "plt.show()"
   ]
  },
  {
   "cell_type": "code",
   "execution_count": null,
   "metadata": {},
   "outputs": [],
   "source": []
  }
 ],
 "metadata": {
  "kernelspec": {
   "display_name": "Python 3",
   "language": "python",
   "name": "python3"
  },
  "language_info": {
   "codemirror_mode": {
    "name": "ipython",
    "version": 3
   },
   "file_extension": ".py",
   "mimetype": "text/x-python",
   "name": "python",
   "nbconvert_exporter": "python",
   "pygments_lexer": "ipython3",
   "version": "3.7.4"
  }
 },
 "nbformat": 4,
 "nbformat_minor": 2
}
