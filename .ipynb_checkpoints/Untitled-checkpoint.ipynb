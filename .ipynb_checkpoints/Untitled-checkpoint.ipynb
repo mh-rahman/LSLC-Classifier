{
 "cells": [
  {
   "cell_type": "code",
   "execution_count": 15,
   "metadata": {},
   "outputs": [],
   "source": [
    "import numpy as np\n",
    "import pandas as pd\n",
    "import matplotlib.pyplot as plt"
   ]
  },
  {
   "cell_type": "code",
   "execution_count": 92,
   "metadata": {},
   "outputs": [],
   "source": [
    "training_file=pd.read_csv('training.csv', delimiter=',')\n",
    "x1=list(training_file['x1'])\n",
    "x2=list(training_file['x2'])\n",
    "y=[0]*len(x1)\n",
    "i=0\n",
    "for x in x2:\n",
    "    if(x<=2):\n",
    "        y[i]=1\n",
    "        i+=1\n",
    "    else:\n",
    "       y[i]=0\n",
    "       i+=1\n",
    "x0=[1]*len(x1)"
   ]
  },
  {
   "cell_type": "code",
   "execution_count": 93,
   "metadata": {},
   "outputs": [],
   "source": [
    "design_matrix=np.asmatrix(np.column_stack((x0,x1,x2)))\n",
    "target_matrix=np.asmatrix(np.row_stack((y)))"
   ]
  },
  {
   "cell_type": "code",
   "execution_count": 94,
   "metadata": {},
   "outputs": [
    {
     "data": {
      "text/plain": [
       "(21, 1)"
      ]
     },
     "execution_count": 94,
     "metadata": {},
     "output_type": "execute_result"
    }
   ],
   "source": [
    "mult=np.matmul(np.matmul(design_matrix.T,design_matrix).I,design_matrix.T)\n",
    "#mult.shape\n",
    "weight_matrix=np.matmul(mult,target_matrix)\n",
    "target_matrix.shape\n",
    "#np.matmul(design_matrix.T,target_matrix)"
   ]
  },
  {
   "cell_type": "code",
   "execution_count": 99,
   "metadata": {},
   "outputs": [
    {
     "data": {
      "text/plain": [
       "matrix([[ 1.27964245e+00],\n",
       "        [-2.05868000e-04],\n",
       "        [-2.97014152e-01]])"
      ]
     },
     "execution_count": 99,
     "metadata": {},
     "output_type": "execute_result"
    }
   ],
   "source": [
    "weight_matrix"
   ]
  },
  {
   "cell_type": "code",
   "execution_count": 107,
   "metadata": {},
   "outputs": [
    {
     "data": {
      "image/png": "[encoded data removed]",
      "text/plain": [
       "<Figure size 432x288 with 1 Axes>"
      ]
     },
     "metadata": {
      "needs_background": "light"
     },
     "output_type": "display_data"
    }
   ],
   "source": [
    "plt.plot(x1,x2,'rx')\n",
    "plt.xlabel('x1')\n",
    "plt.ylabel('x2')\n",
    "x=np.linspace(0,100,100)\n",
    "y=-1*(float(weight_matrix[0])/2+float(weight_matrix[1])*x)/float(weight_matrix[2])\n",
    "plt.plot(x, y, '-r', label='y=2x+1')\n",
    "plt.show()"
   ]
  }
 ],
 "metadata": {
  "kernelspec": {
   "display_name": "Python 3",
   "language": "python",
   "name": "python3"
  },
  "language_info": {
   "codemirror_mode": {
    "name": "ipython",
    "version": 3
   },
   "file_extension": ".py",
   "mimetype": "text/x-python",
   "name": "python",
   "nbconvert_exporter": "python",
   "pygments_lexer": "ipython3",
   "version": "3.7.4"
  }
 },
 "nbformat": 4,
 "nbformat_minor": 2
}
